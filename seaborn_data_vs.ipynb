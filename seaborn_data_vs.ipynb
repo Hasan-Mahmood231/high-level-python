{
 "cells": [
  {
   "cell_type": "markdown",
   "id": "2e5b4bd8",
   "metadata": {},
   "source": [
    "# 🎨 Introduction to Seaborn\n",
    "\n",
    "**Seaborn** is a powerful and easy-to-use data visualization library built on top of **Matplotlib** in Python. It provides a high-level interface for creating attractive and informative statistical graphics.\n",
    "\n",
    "While Matplotlib handles the basic plotting, **Seaborn simplifies** the process by providing **built-in themes, color palettes**, and complex visualizations with minimal code.\n",
    "\n",
    "---\n",
    "\n",
    "## 🌟 Key Features of Seaborn\n",
    "\n",
    "- Beautiful default styles and color themes\n",
    "- Built-in support for **statistical plots**\n",
    "- Works well with **Pandas DataFrames**\n",
    "- Simplifies complex plots like:\n",
    "  - **Distribution plots** (histograms, KDEs)\n",
    "  - **Categorical plots** (boxplots, barplots, violin plots)\n",
    "  - **Matrix plots** (heatmaps, correlation)\n",
    "  - **Regression plots** (line of best fit with confidence intervals)\n",
    "\n",
    "---\n",
    "\n",
    "## ✅ Why Use Seaborn?\n",
    "\n",
    "- Cleaner and more readable visualizations\n",
    "- Quick comparisons and statistical summaries\n",
    "- Great integration with data analysis tools like Pandas\n",
    "- Saves time when creating complex graphs\n",
    "\n",
    "---\n",
    "\n",
    "## 📥 Importing Seaborn\n",
    "\n",
    "```python\n",
    "import seaborn as sns\n",
    "import matplotlib.pyplot as plt\n"
   ]
  },
  {
   "cell_type": "code",
   "execution_count": 3,
   "id": "3efe7108",
   "metadata": {},
   "outputs": [
    {
     "ename": "ModuleNotFoundError",
     "evalue": "No module named 'seaborn'",
     "output_type": "error",
     "traceback": [
      "\u001b[31m---------------------------------------------------------------------------\u001b[39m",
      "\u001b[31mModuleNotFoundError\u001b[39m                       Traceback (most recent call last)",
      "\u001b[36mCell\u001b[39m\u001b[36m \u001b[39m\u001b[32mIn[3]\u001b[39m\u001b[32m, line 6\u001b[39m\n\u001b[32m      1\u001b[39m \u001b[38;5;66;03m# import seaborn as sns\u001b[39;00m\n\u001b[32m      2\u001b[39m \u001b[38;5;66;03m# import matplotlib.pyplot as plt\u001b[39;00m\n\u001b[32m      3\u001b[39m \n\u001b[32m      4\u001b[39m \u001b[38;5;66;03m# data = sns.load_dataset('tips')\u001b[39;00m\n\u001b[32m      5\u001b[39m \u001b[38;5;66;03m# data\u001b[39;00m\n\u001b[32m----> \u001b[39m\u001b[32m6\u001b[39m \u001b[38;5;28;01mimport\u001b[39;00m\u001b[38;5;250m \u001b[39m\u001b[34;01mseaborn\u001b[39;00m\u001b[38;5;250m \u001b[39m\u001b[38;5;28;01mas\u001b[39;00m\u001b[38;5;250m \u001b[39m\u001b[34;01msns\u001b[39;00m\n\u001b[32m      7\u001b[39m \u001b[38;5;28mprint\u001b[39m(sns.__version__)\n",
      "\u001b[31mModuleNotFoundError\u001b[39m: No module named 'seaborn'"
     ]
    }
   ],
   "source": [
    "# import seaborn as sns\n",
    "# import matplotlib.pyplot as plt\n",
    "\n",
    "# data = sns.load_dataset('tips')\n",
    "# data\n",
    "import seaborn as sns\n",
    "print(sns.__version__)\n"
   ]
  },
  {
   "cell_type": "code",
   "execution_count": 4,
   "id": "235aa476",
   "metadata": {},
   "outputs": [
    {
     "ename": "ModuleNotFoundError",
     "evalue": "No module named 'seaborn'",
     "output_type": "error",
     "traceback": [
      "\u001b[31m---------------------------------------------------------------------------\u001b[39m",
      "\u001b[31mModuleNotFoundError\u001b[39m                       Traceback (most recent call last)",
      "\u001b[36mCell\u001b[39m\u001b[36m \u001b[39m\u001b[32mIn[4]\u001b[39m\u001b[32m, line 1\u001b[39m\n\u001b[32m----> \u001b[39m\u001b[32m1\u001b[39m \u001b[38;5;28;01mimport\u001b[39;00m\u001b[38;5;250m \u001b[39m\u001b[34;01mseaborn\u001b[39;00m\u001b[38;5;250m \u001b[39m\u001b[38;5;28;01mas\u001b[39;00m\u001b[38;5;250m \u001b[39m\u001b[34;01msns\u001b[39;00m\n\u001b[32m      3\u001b[39m \u001b[38;5;28mprint\u001b[39m(\u001b[33m\"\u001b[39m\u001b[33mSeaborn version:\u001b[39m\u001b[33m\"\u001b[39m, sns.__version__)\n",
      "\u001b[31mModuleNotFoundError\u001b[39m: No module named 'seaborn'"
     ]
    }
   ],
   "source": [
    "import seaborn as sns\n",
    "\n",
    "print(\"Seaborn version:\", sns.__version__)\n"
   ]
  },
  {
   "cell_type": "code",
   "execution_count": null,
   "id": "ea7514ab",
   "metadata": {},
   "outputs": [],
   "source": []
  }
 ],
 "metadata": {
  "kernelspec": {
   "display_name": "Python 3",
   "language": "python",
   "name": "python3"
  },
  "language_info": {
   "codemirror_mode": {
    "name": "ipython",
    "version": 3
   },
   "file_extension": ".py",
   "mimetype": "text/x-python",
   "name": "python",
   "nbconvert_exporter": "python",
   "pygments_lexer": "ipython3",
   "version": "3.12.7"
  }
 },
 "nbformat": 4,
 "nbformat_minor": 5
}
