{
 "cells": [
  {
   "cell_type": "code",
   "execution_count": null,
   "id": "a8e6b62f",
   "metadata": {},
   "outputs": [],
   "source": [
    "try:\n",
    "    number = int(input(\"Enter a number: \"))\n",
    "    result = 10 / number\n",
    "except ZeroDivisionError:\n",
    "    print(\"You cannot divide by zero!\")\n",
    "except ValueError:\n",
    "    print(\"Invalid input! Please enter a number.\")\n",
    "else:\n",
    "    print(\"The result is:\", result)\n",
    "finally:\n",
    "    print(\"This block always runs.\")\n"
   ]
  }
 ],
 "metadata": {
  "kernelspec": {
   "display_name": "Python 3",
   "language": "python",
   "name": "python3"
  },
  "language_info": {
   "name": "python",
   "version": "3.12.7"
  }
 },
 "nbformat": 4,
 "nbformat_minor": 5
}
